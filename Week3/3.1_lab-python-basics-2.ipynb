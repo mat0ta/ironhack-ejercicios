{
 "cells": [
  {
   "cell_type": "markdown",
   "id": "aef01e5a",
   "metadata": {},
   "source": [
    "# Lambdas, udef, filter, map"
   ]
  },
  {
   "cell_type": "markdown",
   "id": "3131bdb8",
   "metadata": {},
   "source": [
    "The goverment made a socilogical study of citizens at mid-40's. They gathered the following data:"
   ]
  },
  {
   "cell_type": "code",
   "execution_count": 1,
   "id": "70d86ca7",
   "metadata": {},
   "outputs": [],
   "source": [
    "citizens = [{ 'First Name': 'Preston' , 'Last Name': 'Cunningham', 'Age': 49 , 'Education': 'Doctoral', 'Occupation':' Teacher' ,'Experience (Years)': 6, 'Salary': 62499}, \n",
    " { 'First Name': 'Madaline', 'Last Name': 'Farrell', 'Age': 41, 'Education': 'Bachelor', 'Occupation': 'Insurer','Experience (Years)': 16, 'Salary': 50190},\n",
    " { 'First Name': 'Eleanor', 'Last Name': 'Carter', 'Age': 49, 'Education': 'Lower secondary', 'Occupation': 'Programmer','Experience (Years)': 18, 'Salary': 189716},\n",
    " { 'First Name': 'Adison', 'Last Name': 'Hall', 'Age': 42 , 'Education': 'Bachelor', 'Occupation': 'Florist','Experience (Years)': 21, 'Salary': 34517},\n",
    " { 'First Name': 'Grace', 'Last Name': 'Cooper', 'Age': 49, 'Education': 'Master', 'Occupation': 'Singer','Experience (Years)': 9, 'Salary': 51994},\n",
    " { 'First Name': 'Alford', 'Last Name': 'Kelley', 'Age': 49, 'Education': 'Bachelor', 'Occupation': 'Aeroplane Pilot','Experience (Years)': 9, 'Salary': 170466},\n",
    " { 'First Name': 'Vincent', 'Last Name': 'Anderson', 'Age': 47, 'Education': 'Master', 'Occupation': 'Botanist','Experience (Years)': 6, 'Salary': 71617},\n",
    " { 'First Name': 'Myra', 'Last Name': 'Wright', 'Age': 45, 'Education': 'Master', 'Occupation': 'Geologist' ,'Experience (Years)': 18, 'Salary': 48786},\n",
    " { 'First Name': 'Chester', 'Last Name':'Bennett', 'Age': 42, 'Education': 'Doctoral', 'Occupation': 'Astronomer','Experience (Years)': 13, 'Salary': 44826},\n",
    " { 'First Name': 'Blake', 'Last Name': 'Tucker', 'Age': 42, 'Education': 'Doctoral', 'Occupation': 'Firefighter','Experience (Years)': 21, 'Salary': 36761},\n",
    " { 'First Name': 'Paige', 'Last Name': 'Ryan', 'Age': 43, 'Education': 'Primary', 'Occupation': 'Fine Artist','Experience (Years)': 19, 'Salary': 28181},\n",
    " { 'First Name': 'Natalie', 'Last Name': 'Ellis', 'Age': 45, 'Education': 'Bachelor', 'Occupation': 'Baker','Experience (Years)': 0, 'Salary': 31194},\n",
    " { 'First Name': 'Martin', 'Last Name': 'Thompson', 'Age': 47, 'Education': 'Bachelor', 'Occupation': 'Journalist','Experience (Years)': 21, 'Salary': 90183},\n",
    " { 'First Name': 'Alan', 'Last Name': 'Sullivan', 'Age': 46, 'Education': 'Doctoral', 'Occupation': 'Singer','Experience (Years)': 2, 'Salary': 18440},\n",
    " { 'First Name': 'Inga', 'Last Name': 'Bergman', 'Age': 41, 'Education': 'Bachelor', 'Occupation': 'Producer','Experience (Years)': 22, 'Salary': 80029},\n",
    " { 'First Name': 'Freddy', 'Last Name': 'Brown', 'Age': 48, 'Education': 'Bachelor', 'Occupation': 'Economist','Experience (Years)': 18, 'Salary': 146217},\n",
    " { 'First Name': 'Adelaide', 'Last Name': 'Farrell', 'Age': 42, 'Education': 'Bachelor', 'Occupation': 'Mechanic','Experience (Years)': 9, 'Salary':19414},\n",
    " { 'First Name': 'Luke', 'Last Name': 'Cooper', 'Age': 40, 'Education': 'Upper secondary', 'Occupation': 'Producer','Experience (Years)': 17, 'Salary': 160541},\n",
    " { 'First Name': 'Sofia', 'Last Name': 'Hall', 'Age': 41, 'Education': 'Doctoral', 'Occupation': 'Baker','Experience (Years)': 1, 'Salary': 25904},\n",
    " { 'First Name': 'Ashton', 'Last Name': 'Kelly', 'Age': 49, 'Education': 'Master', 'Occupation': 'Chef','Experience (Years)': 6, 'Salary': 95533}\n",
    "]"
   ]
  },
  {
   "cell_type": "markdown",
   "id": "d9724b4c",
   "metadata": {},
   "source": [
    "The goverment wants to know some things about this sample of citizens."
   ]
  },
  {
   "cell_type": "markdown",
   "id": "de46f18a",
   "metadata": {},
   "source": [
    "## Exercise 1:\n",
    "\n",
    "1. Create a user defined function to compute the mean of a list of numbers.\n",
    "2. Use python code to store the ages of the citizens inside a list.\n",
    "3. Use your function to compute the mean age (round the mean age to one decimal) using `round()`\n",
    "\n",
    "Expected result:\n",
    "\n",
    "```python\n",
    "\"The mean age of the citizens is: average_age years\"\n",
    "```\n",
    "\n",
    "replacing `average_age` by the correspoding value."
   ]
  },
  {
   "cell_type": "code",
   "execution_count": 3,
   "id": "1b4e6c16",
   "metadata": {},
   "outputs": [
    {
     "name": "stdout",
     "output_type": "stream",
     "text": [
      "45\n"
     ]
    }
   ],
   "source": [
    "# Your code\n",
    "def average_age():\n",
    "    ages = []\n",
    "    for citizen in citizens:\n",
    "        ages.append(citizen['Age'])\n",
    "    return sum(ages)/len(ages)\n",
    "\n",
    "print(int(round(average_age(), 0)))\n"
   ]
  },
  {
   "cell_type": "markdown",
   "id": "67b16e40",
   "metadata": {},
   "source": [
    "# Exercise 2:\n",
    "\n",
    "1. What are the unique educational levels?  \n",
    "2. How many unique educational levels are?\n",
    "3. What are the unique ocupations?\n",
    "4. How many unique ocupations are?"
   ]
  },
  {
   "cell_type": "code",
   "execution_count": 4,
   "id": "d171a3cc",
   "metadata": {},
   "outputs": [
    {
     "name": "stdout",
     "output_type": "stream",
     "text": [
      "({'Master', 'Upper secondary', 'Primary', 'Doctoral', 'Lower secondary', 'Bachelor'}, 6)\n",
      "({'Astronomer', 'Florist', 'Firefighter', 'Economist', 'Programmer', 'Aeroplane Pilot', 'Mechanic', 'Botanist', 'Singer', 'Producer', 'Insurer', 'Fine Artist', ' Teacher', 'Geologist', 'Journalist', 'Chef', 'Baker'}, 17)\n"
     ]
    }
   ],
   "source": [
    "# Your code\n",
    "def unique_educational_levels():\n",
    "    levels = []\n",
    "    for citizen in citizens:\n",
    "        levels.append(citizen['Education'])\n",
    "    return set(levels), len(set(levels))\n",
    "\n",
    "def unique_ocupations():\n",
    "    ocupations = []\n",
    "    for citizen in citizens:\n",
    "        ocupations.append(citizen['Occupation'])\n",
    "    return set(ocupations), len(set(ocupations))\n",
    "\n",
    "print(unique_educational_levels())\n",
    "print(unique_ocupations())"
   ]
  },
  {
   "cell_type": "markdown",
   "id": "42d09af6",
   "metadata": {},
   "source": [
    "# Exercise 3:\n",
    "\n",
    "1. Provide a new list in which avery element is another dictionary which only contains:\n",
    "\n",
    "* 'First Name'\n",
    "* 'Last Name'\n",
    "* and at which age they started working?\n",
    "   ( substract from the age the years of experience )\n",
    "\n",
    "Expected output:\n",
    "\n",
    "```python\n",
    "[{ 'First Name': name, 'Last Name': last_name,'Starting age': 27},\n",
    " ...\n",
    "]\n",
    "```"
   ]
  },
  {
   "cell_type": "code",
   "execution_count": 6,
   "id": "5dec9deb",
   "metadata": {},
   "outputs": [
    {
     "name": "stdout",
     "output_type": "stream",
     "text": [
      "[{'First Name': 'Preston', 'Last Name': 'Cunningham', 'Stanting Age': 43}, {'First Name': 'Madaline', 'Last Name': 'Farrell', 'Stanting Age': 25}, {'First Name': 'Eleanor', 'Last Name': 'Carter', 'Stanting Age': 31}, {'First Name': 'Adison', 'Last Name': 'Hall', 'Stanting Age': 21}, {'First Name': 'Grace', 'Last Name': 'Cooper', 'Stanting Age': 40}, {'First Name': 'Alford', 'Last Name': 'Kelley', 'Stanting Age': 40}, {'First Name': 'Vincent', 'Last Name': 'Anderson', 'Stanting Age': 41}, {'First Name': 'Myra', 'Last Name': 'Wright', 'Stanting Age': 27}, {'First Name': 'Chester', 'Last Name': 'Bennett', 'Stanting Age': 29}, {'First Name': 'Blake', 'Last Name': 'Tucker', 'Stanting Age': 21}, {'First Name': 'Paige', 'Last Name': 'Ryan', 'Stanting Age': 24}, {'First Name': 'Natalie', 'Last Name': 'Ellis', 'Stanting Age': 45}, {'First Name': 'Martin', 'Last Name': 'Thompson', 'Stanting Age': 26}, {'First Name': 'Alan', 'Last Name': 'Sullivan', 'Stanting Age': 44}, {'First Name': 'Inga', 'Last Name': 'Bergman', 'Stanting Age': 19}, {'First Name': 'Freddy', 'Last Name': 'Brown', 'Stanting Age': 30}, {'First Name': 'Adelaide', 'Last Name': 'Farrell', 'Stanting Age': 33}, {'First Name': 'Luke', 'Last Name': 'Cooper', 'Stanting Age': 23}, {'First Name': 'Sofia', 'Last Name': 'Hall', 'Stanting Age': 40}, {'First Name': 'Ashton', 'Last Name': 'Kelly', 'Stanting Age': 43}]\n"
     ]
    }
   ],
   "source": [
    "# Your code\n",
    "users_list = []\n",
    "for citizen in citizens:\n",
    "    users_list.append({'First Name': citizen['First Name'], 'Last Name': citizen['Last Name'], 'Stanting Age': citizen['Age'] - citizen['Experience (Years)']})\n",
    "\n",
    "print(users_list)"
   ]
  },
  {
   "cell_type": "markdown",
   "id": "a1369045",
   "metadata": {},
   "source": [
    "# Exercise 4:\n",
    "\n",
    "1. Can you provide a dictionary which contains **unique** `Education` levels and the corresponding mean salary?\n",
    "2. Do the same but by `Occupation`\n",
    "\n",
    "Expected outputs:\n",
    "\n",
    "```python\n",
    "{'Doctoral': mean_salary_doctorals,\n",
    " 'Bachelor': mean_salaty_bachelors,\n",
    "...}\n",
    "```\n",
    "\n",
    "```python\n",
    "{'Teacher': mean_salary_teachers,\n",
    " 'Insurer': mean_salaty_insurers,\n",
    "...}\n",
    "````\n",
    "\n",
    "**CAVEAT!!** The statement says: UNIQUE!!!"
   ]
  },
  {
   "cell_type": "code",
   "execution_count": 14,
   "id": "5a615a42",
   "metadata": {},
   "outputs": [
    {
     "name": "stdout",
     "output_type": "stream",
     "text": [
      "{'Doctoral': 37686.0, 'Bachelor': 77776.25, 'Lower secondary': 189716.0, 'Master': 66982.5, 'Primary': 28181.0, 'Upper secondary': 160541.0}\n",
      "{' Teacher': 62499.0, 'Insurer': 50190.0, 'Programmer': 189716.0, 'Florist': 34517.0, 'Singer': 35217.0, 'Aeroplane Pilot': 170466.0, 'Botanist': 71617.0, 'Geologist': 48786.0, 'Astronomer': 44826.0, 'Firefighter': 36761.0, 'Fine Artist': 28181.0, 'Baker': 28549.0, 'Journalist': 90183.0, 'Producer': 120285.0, 'Economist': 146217.0, 'Mechanic': 19414.0, 'Chef': 95533.0}\n"
     ]
    }
   ],
   "source": [
    "# Your code\n",
    "education_dict = {}\n",
    "\n",
    "for citizen in citizens:\n",
    "    if citizen['Education'] in education_dict:\n",
    "        education_dict[citizen['Education']][0] += 1\n",
    "        education_dict[citizen['Education']][1] += citizen['Salary']\n",
    "    else:\n",
    "        education_dict[citizen['Education']] = [1, citizen['Salary']]\n",
    "for i in education_dict:\n",
    "    education_dict[i] = education_dict[i][1]/education_dict[i][0]\n",
    "\n",
    "print(education_dict)\n",
    "\n",
    "ocupations_dict = {}\n",
    "for citizen in citizens:\n",
    "    if citizen['Occupation'] in ocupations_dict:\n",
    "        ocupations_dict[citizen['Occupation']][0] += 1\n",
    "        ocupations_dict[citizen['Occupation']][1] += citizen['Salary']\n",
    "    else:\n",
    "        ocupations_dict[citizen['Occupation']] = [1, citizen['Salary']]\n",
    "for i in ocupations_dict:\n",
    "    ocupations_dict[i] = ocupations_dict[i][1]/ocupations_dict[i][0]\n",
    "\n",
    "print(ocupations_dict)"
   ]
  },
  {
   "cell_type": "markdown",
   "id": "751b6315",
   "metadata": {},
   "source": [
    "# Exercise 5:\n",
    "\n",
    "1. Use a `lambda` function and `filter` to keep only citizens with 'Doctoral' educational level.\n",
    "2. Use a user defined function to obtain the same output"
   ]
  },
  {
   "cell_type": "markdown",
   "id": "71432147",
   "metadata": {},
   "source": [
    "The output in both cases should be:\n",
    "\n",
    "```python\n",
    "[{'First Name': 'Preston',\n",
    "  'Last Name': 'Cunningham',\n",
    "  'Age': 49,\n",
    "  'Education': 'Doctoral',\n",
    "  'Occupation': ' Teacher',\n",
    "  'Experience (Years)': 6,\n",
    "  'Salary': 62499},\n",
    " {'First Name': 'Chester',\n",
    "  'Last Name': 'Bennett',\n",
    "  'Age': 42,\n",
    "  'Education': 'Doctoral',\n",
    "  'Occupation': 'Astronomer',\n",
    "  'Experience (Years)': 13,\n",
    "  'Salary': 44826},\n",
    " {'First Name': 'Blake',\n",
    "  'Last Name': 'Tucker',\n",
    "  'Age': 42,\n",
    "  'Education': 'Doctoral',\n",
    "  'Occupation': 'Firefighter',\n",
    "  'Experience (Years)': 21,\n",
    "  'Salary': 36761},\n",
    " {'First Name': 'Alan',\n",
    "  'Last Name': 'Sullivan',\n",
    "  'Age': 46,\n",
    "  'Education': 'Doctoral',\n",
    "  'Occupation': 'Singer',\n",
    "  'Experience (Years)': 2,\n",
    "  'Salary': 18440},\n",
    " {'First Name': 'Sofia',\n",
    "  'Last Name': 'Hall',\n",
    "  'Age': 41,\n",
    "  'Education': 'Doctoral',\n",
    "  'Occupation': 'Baker',\n",
    "  'Experience (Years)': 1,\n",
    "  'Salary': 25904}]\n",
    "```"
   ]
  },
  {
   "cell_type": "code",
   "execution_count": 16,
   "id": "98751935",
   "metadata": {},
   "outputs": [
    {
     "name": "stdout",
     "output_type": "stream",
     "text": [
      "[{'First Name': 'Preston', 'Last Name': 'Cunningham', 'Age': 49, 'Education': 'Doctoral', 'Occupation': ' Teacher', 'Experience (Years)': 6, 'Salary': 62499}, {'First Name': 'Chester', 'Last Name': 'Bennett', 'Age': 42, 'Education': 'Doctoral', 'Occupation': 'Astronomer', 'Experience (Years)': 13, 'Salary': 44826}, {'First Name': 'Blake', 'Last Name': 'Tucker', 'Age': 42, 'Education': 'Doctoral', 'Occupation': 'Firefighter', 'Experience (Years)': 21, 'Salary': 36761}, {'First Name': 'Alan', 'Last Name': 'Sullivan', 'Age': 46, 'Education': 'Doctoral', 'Occupation': 'Singer', 'Experience (Years)': 2, 'Salary': 18440}, {'First Name': 'Sofia', 'Last Name': 'Hall', 'Age': 41, 'Education': 'Doctoral', 'Occupation': 'Baker', 'Experience (Years)': 1, 'Salary': 25904}]\n",
      "[{'First Name': 'Preston', 'Last Name': 'Cunningham', 'Age': 49, 'Education': 'Doctoral', 'Occupation': ' Teacher', 'Experience (Years)': 6, 'Salary': 62499}, {'First Name': 'Chester', 'Last Name': 'Bennett', 'Age': 42, 'Education': 'Doctoral', 'Occupation': 'Astronomer', 'Experience (Years)': 13, 'Salary': 44826}, {'First Name': 'Blake', 'Last Name': 'Tucker', 'Age': 42, 'Education': 'Doctoral', 'Occupation': 'Firefighter', 'Experience (Years)': 21, 'Salary': 36761}, {'First Name': 'Alan', 'Last Name': 'Sullivan', 'Age': 46, 'Education': 'Doctoral', 'Occupation': 'Singer', 'Experience (Years)': 2, 'Salary': 18440}, {'First Name': 'Sofia', 'Last Name': 'Hall', 'Age': 41, 'Education': 'Doctoral', 'Occupation': 'Baker', 'Experience (Years)': 1, 'Salary': 25904}]\n"
     ]
    }
   ],
   "source": [
    "# Your code\n",
    "print(list(filter(lambda x: x['Education'] == 'Doctoral', citizens)))\n",
    "\n",
    "# Use a user defined function to obtain the same output\n",
    "def filter_by_education(education):\n",
    "    return list(filter(lambda x: x['Education'] == education, citizens))\n",
    "\n",
    "print(filter_by_education('Doctoral'))"
   ]
  },
  {
   "cell_type": "markdown",
   "id": "8364a01f",
   "metadata": {},
   "source": [
    "# Exercise 6:\n",
    "\n",
    "1. Use a `lambda` function alongside with `map()` to get a list of strings with the following pattern:\n",
    "\n",
    "\"First Name is number_of_years years old\"\n",
    "\n",
    "The expected output should be:\n",
    "\n",
    "```python\n",
    "['Preston Cunningham is 49 years old',\n",
    " 'Madaline Farrell is 41 years old',\n",
    " 'Eleanor Carter is 49 years old',\n",
    " 'Adison Hall is 42 years old',\n",
    " 'Grace Cooper is 49 years old',\n",
    " 'Alford Kelley is 49 years old',\n",
    " 'Vincent Anderson is 47 years old',\n",
    " 'Myra Wright is 45 years old',\n",
    " 'Chester Bennett is 42 years old',\n",
    " 'Blake Tucker is 42 years old',\n",
    " 'Paige Ryan is 43 years old',\n",
    " 'Natalie Ellis is 45 years old',\n",
    " 'Martin Thompson is 47 years old',\n",
    " 'Alan Sullivan is 46 years old',\n",
    " 'Inga Bergman is 41 years old',\n",
    " 'Freddy Brown is 48 years old',\n",
    " 'Adelaide Farrell is 42 years old',\n",
    " 'Luke Cooper is 40 years old',\n",
    " 'Sofia Hall is 41 years old',\n",
    " 'Ashton Kelly is 49 years old']\n",
    "```\n",
    "\n",
    "Hint: use `str()` to cast an integer into a string."
   ]
  },
  {
   "cell_type": "code",
   "execution_count": 18,
   "id": "b9f1538f",
   "metadata": {},
   "outputs": [
    {
     "name": "stdout",
     "output_type": "stream",
     "text": [
      "['Preston is 43 years old', 'Madaline is 25 years old', 'Eleanor is 31 years old', 'Adison is 21 years old', 'Grace is 40 years old', 'Alford is 40 years old', 'Vincent is 41 years old', 'Myra is 27 years old', 'Chester is 29 years old', 'Blake is 21 years old', 'Paige is 24 years old', 'Natalie is 45 years old', 'Martin is 26 years old', 'Alan is 44 years old', 'Inga is 19 years old', 'Freddy is 30 years old', 'Adelaide is 33 years old', 'Luke is 23 years old', 'Sofia is 40 years old', 'Ashton is 43 years old']\n"
     ]
    }
   ],
   "source": [
    "# Your code\n",
    "\n",
    "print(list(map(lambda x: f\"{x['First Name']} is {x['Age'] - x['Experience (Years)']} years old\", citizens)))\n"
   ]
  }
 ],
 "metadata": {
  "kernelspec": {
   "display_name": "Python 3.9.7 64-bit",
   "language": "python",
   "name": "python3"
  },
  "language_info": {
   "codemirror_mode": {
    "name": "ipython",
    "version": 3
   },
   "file_extension": ".py",
   "mimetype": "text/x-python",
   "name": "python",
   "nbconvert_exporter": "python",
   "pygments_lexer": "ipython3",
   "version": "3.9.7 (tags/v3.9.7:1016ef3, Aug 30 2021, 20:19:38) [MSC v.1929 64 bit (AMD64)]"
  },
  "vscode": {
   "interpreter": {
    "hash": "3e24519b0ba229a6f9a71f39c1cb5a8bdc9138e2d11e58c1de9e81a631b04fde"
   }
  }
 },
 "nbformat": 4,
 "nbformat_minor": 5
}
