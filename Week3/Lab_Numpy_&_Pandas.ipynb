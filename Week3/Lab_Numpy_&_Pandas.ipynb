{
  "cells": [
    {
      "cell_type": "markdown",
      "id": "971b8ccc",
      "metadata": {
        "id": "971b8ccc"
      },
      "source": [
        "### 1. Import the NUMPY package under the name np and PANDAS as pd."
      ]
    },
    {
      "cell_type": "code",
      "execution_count": 1,
      "id": "42a92920",
      "metadata": {
        "id": "42a92920"
      },
      "outputs": [],
      "source": [
        "import numpy as np\n",
        "import pandas as pd"
      ]
    },
    {
      "cell_type": "markdown",
      "id": "e741fdf2",
      "metadata": {
        "id": "e741fdf2"
      },
      "source": [
        "### 2. Generate a 2x3x5 3-dimensional array with random values. Assign the array to variable \"a\""
      ]
    },
    {
      "cell_type": "code",
      "execution_count": 2,
      "id": "322fac33",
      "metadata": {
        "id": "322fac33"
      },
      "outputs": [
        {
          "name": "stdout",
          "output_type": "stream",
          "text": [
            "[[[4 2 8 2 2]\n",
            "  [9 4 1 7 9]\n",
            "  [5 3 6 9 9]]\n",
            "\n",
            " [[5 2 0 8 6]\n",
            "  [9 0 1 2 1]\n",
            "  [0 4 6 8 8]]]\n"
          ]
        }
      ],
      "source": [
        "# Generate a 2x3x5 3-dimensional array with random values. Assign the array to variable \"a\"\n",
        "\n",
        "array_ = []\n",
        "for i in range(2):\n",
        "    array_.append([])\n",
        "    for j in range(3):\n",
        "        array_[i].append([])\n",
        "        for k in range(5):\n",
        "            array_[i][j].append(np.random.randint(0, 10))\n",
        "\n",
        "a = np.array(array_)\n",
        "print(a)\n"
      ]
    },
    {
      "cell_type": "markdown",
      "id": "e4431985",
      "metadata": {
        "id": "e4431985"
      },
      "source": [
        "### 3. Create a 5x2x3 3-dimensional array with all values equaling 1."
      ]
    },
    {
      "cell_type": "code",
      "execution_count": 5,
      "id": "17410c6a",
      "metadata": {
        "id": "17410c6a"
      },
      "outputs": [
        {
          "name": "stdout",
          "output_type": "stream",
          "text": [
            "[[[1. 1. 1.]\n",
            "  [1. 1. 1.]]\n",
            "\n",
            " [[1. 1. 1.]\n",
            "  [1. 1. 1.]]\n",
            "\n",
            " [[1. 1. 1.]\n",
            "  [1. 1. 1.]]\n",
            "\n",
            " [[1. 1. 1.]\n",
            "  [1. 1. 1.]]\n",
            "\n",
            " [[1. 1. 1.]\n",
            "  [1. 1. 1.]]]\n"
          ]
        }
      ],
      "source": [
        "b = np.ones((5, 2, 3))\n",
        "print(b)"
      ]
    },
    {
      "cell_type": "markdown",
      "id": "3c94d510",
      "metadata": {
        "id": "3c94d510"
      },
      "source": [
        "### 4. Do a and b have the same size? How do you prove that in Python code?"
      ]
    },
    {
      "cell_type": "code",
      "execution_count": 6,
      "id": "4548eb97",
      "metadata": {
        "id": "4548eb97"
      },
      "outputs": [
        {
          "name": "stdout",
          "output_type": "stream",
          "text": [
            "False\n"
          ]
        }
      ],
      "source": [
        "lena = len(a)\n",
        "lenb = len(b)\n",
        "print(lena == lenb)"
      ]
    },
    {
      "cell_type": "markdown",
      "id": "d0afc5b8",
      "metadata": {
        "id": "d0afc5b8"
      },
      "source": [
        "### 4. Identify the max, min, and mean values in a. Assign those values to variables \"d_max\", \"d_min\", and \"d_mean\""
      ]
    },
    {
      "cell_type": "code",
      "execution_count": 7,
      "id": "6e6a6997",
      "metadata": {
        "id": "6e6a6997"
      },
      "outputs": [
        {
          "name": "stdout",
          "output_type": "stream",
          "text": [
            "9\n",
            "0\n",
            "4.666666666666667\n"
          ]
        }
      ],
      "source": [
        "d_max = np.max(a)\n",
        "print(d_max)\n",
        "d_min = np.min(a)\n",
        "print(d_min)\n",
        "d_mean = np.mean(a)\n",
        "print(d_mean)"
      ]
    },
    {
      "cell_type": "markdown",
      "id": "ce4e2a17",
      "metadata": {
        "id": "ce4e2a17"
      },
      "source": [
        "### 5. Now we want to label the values in a. First create an empty array \"f\" with the same shape (i.e. 2x3x5) as d using `np.empty`."
      ]
    },
    {
      "cell_type": "code",
      "execution_count": 8,
      "id": "e26839e6",
      "metadata": {
        "id": "e26839e6"
      },
      "outputs": [
        {
          "name": "stdout",
          "output_type": "stream",
          "text": [
            "[[[1. 1. 1. 1. 1.]\n",
            "  [1. 1. 1. 1. 1.]\n",
            "  [1. 1. 1. 1. 1.]]\n",
            "\n",
            " [[1. 1. 1. 1. 1.]\n",
            "  [1. 1. 1. 1. 1.]\n",
            "  [1. 1. 1. 1. 1.]]]\n"
          ]
        }
      ],
      "source": [
        "f = np.empty((2, 3, 5))\n",
        "print(f)"
      ]
    },
    {
      "cell_type": "markdown",
      "id": "8e40ce74",
      "metadata": {
        "id": "8e40ce74"
      },
      "source": [
        "### 6. Populate the values in f. \n",
        "\n",
        "    For each value in a, if it's larger than d_min but smaller than d_mean, assign 25 to the corresponding value in f.\n",
        "    If a value in a is larger than d_mean but smaller than d_max, assign 75 to the corresponding value in f.\n",
        "    If a value equals to d_mean, assign 50 to the corresponding value in f.\n",
        "    Assign 0 to the corresponding value(s) in f for d_min in d.\n",
        "    Assign 100 to the corresponding value(s) in f for d_max in d.\n",
        "    In the end, f should have only the following values: 0, 25, 50, 75, and 100.\n",
        "    Note: you don't have to use Numpy in this question."
      ]
    },
    {
      "cell_type": "code",
      "execution_count": 9,
      "id": "b3c7135c",
      "metadata": {
        "id": "b3c7135c"
      },
      "outputs": [
        {
          "name": "stdout",
          "output_type": "stream",
          "text": [
            "[[[ 25.  25.  75.  25.  25.]\n",
            "  [100.  25.  25.  75. 100.]\n",
            "  [ 75.  25.  75. 100. 100.]]\n",
            "\n",
            " [[ 75.  25.   0.  75.  75.]\n",
            "  [100.   0.  25.  25.  25.]\n",
            "  [  0.  25.  75.  75.  75.]]]\n"
          ]
        }
      ],
      "source": [
        "for i in range(2):\n",
        "    for j in range(3):\n",
        "        for k in range(5):\n",
        "            if a[i][j][k] > d_min and a[i][j][k] < d_mean:\n",
        "                f[i][j][k] = 25\n",
        "for i in range(2):\n",
        "    for j in range(3):\n",
        "        for k in range(5):\n",
        "            if a[i][j][k] > d_mean and a[i][j][k] < d_max:\n",
        "                f[i][j][k] = 75\n",
        "\n",
        "for i in range(2):\n",
        "    for j in range(3):\n",
        "        for k in range(5):\n",
        "            if a[i][j][k] == d_mean:\n",
        "                f[i][j][k] = 50\n",
        "\n",
        "for i in range(2):\n",
        "    for j in range(3):\n",
        "        for k in range(5):\n",
        "            if a[i][j][k] == d_min:\n",
        "                f[i][j][k] = 0\n",
        "\n",
        "for i in range(2):\n",
        "    for j in range(3):\n",
        "        for k in range(5):\n",
        "            if a[i][j][k] == d_max:\n",
        "                f[i][j][k] = 100\n",
        "\n",
        "print(f)"
      ]
    },
    {
      "cell_type": "markdown",
      "id": "1cfde667",
      "metadata": {
        "id": "1cfde667"
      },
      "source": [
        "Print a and f. \n",
        "\n",
        "Do you have your expected f?\n",
        "\n",
        "For instance, if your a is:\n",
        "\n",
        "    array([[[1.85836099, 1.67064465, 1.62576044, 1.40243961, 1.88454931],\n",
        "        [1.75354326, 1.69403643, 1.36729252, 1.61415071, 1.12104981],\n",
        "        [1.72201435, 1.1862918 , 1.87078449, 1.7726778 , 1.88180042]],\n",
        "       [[1.44747908, 1.31673383, 1.02000951, 1.52218947, 1.97066381],\n",
        "        [1.79129243, 1.74983003, 1.96028037, 1.85166831, 1.65450881],\n",
        "        [1.18068344, 1.9587381 , 1.00656599, 1.93402165, 1.73514584]]])\n",
        "\n",
        "Your f should be:\n",
        "\n",
        "    array([[[ 75.,  75.,  75.,  25.,  75.],\n",
        "        [ 75.,  75.,  25.,  25.,  25.],\n",
        "        [ 75.,  25.,  75.,  75.,  75.]],\n",
        "       [[ 25.,  25.,  25.,  25., 100.],\n",
        "        [ 75.,  75.,  75.,  75.,  75.],\n",
        "        [ 25.,  75.,   0.,  75.,  75.]]])"
      ]
    },
    {
      "cell_type": "markdown",
      "id": "4edd4acf",
      "metadata": {
        "id": "4edd4acf"
      },
      "source": [
        "### 7. Create a Pandas DataFrame from the list of lists below. Each sublist should be represented as a row."
      ]
    },
    {
      "cell_type": "code",
      "execution_count": 10,
      "id": "262b5df6",
      "metadata": {
        "id": "262b5df6"
      },
      "outputs": [
        {
          "name": "stdout",
          "output_type": "stream",
          "text": [
            "      0     1     2     3     4\n",
            "0  53.1  95.0  67.5  35.0  78.4\n",
            "1  61.3  40.8  30.8  37.8  87.6\n",
            "2  20.6  73.2  44.2  14.6  91.8\n",
            "3  57.4   0.1  96.1   4.2  69.5\n",
            "4  83.6  20.5  85.4  22.8  35.9\n",
            "5  49.0  69.0   0.1  31.8  89.1\n",
            "6  23.3  40.7  95.0  83.8  26.9\n",
            "7  27.6  26.4  53.8  88.8  68.5\n",
            "8  96.6  96.4  53.4  72.4  50.1\n",
            "9  73.7  39.0  43.2  81.6  34.7\n"
          ]
        }
      ],
      "source": [
        "matriz = [[53.1, 95.0, 67.5, 35.0, 78.4],\n",
        "     [61.3, 40.8, 30.8, 37.8, 87.6],\n",
        "     [20.6, 73.2, 44.2, 14.6, 91.8],\n",
        "     [57.4, 0.1, 96.1, 4.2, 69.5],\n",
        "     [83.6, 20.5, 85.4, 22.8, 35.9],\n",
        "     [49.0, 69.0, 0.1, 31.8, 89.1],\n",
        "     [23.3, 40.7, 95.0, 83.8, 26.9],\n",
        "     [27.6, 26.4, 53.8, 88.8, 68.5],\n",
        "     [96.6, 96.4, 53.4, 72.4, 50.1],\n",
        "     [73.7, 39.0, 43.2, 81.6, 34.7]]\n",
        "\n",
        "df = pd.DataFrame(matriz)\n",
        "print(df)"
      ]
    },
    {
      "cell_type": "markdown",
      "id": "9c8c5d11",
      "metadata": {
        "id": "9c8c5d11"
      },
      "source": [
        "### 8. Rename the data frame columns based on the names in the list below."
      ]
    },
    {
      "cell_type": "code",
      "execution_count": 11,
      "id": "35ef792c",
      "metadata": {
        "id": "35ef792c"
      },
      "outputs": [
        {
          "name": "stdout",
          "output_type": "stream",
          "text": [
            "   Score_1  Score_2  Score_3  Score_4  Score_5\n",
            "0     53.1     95.0     67.5     35.0     78.4\n",
            "1     61.3     40.8     30.8     37.8     87.6\n",
            "2     20.6     73.2     44.2     14.6     91.8\n",
            "3     57.4      0.1     96.1      4.2     69.5\n",
            "4     83.6     20.5     85.4     22.8     35.9\n",
            "5     49.0     69.0      0.1     31.8     89.1\n",
            "6     23.3     40.7     95.0     83.8     26.9\n",
            "7     27.6     26.4     53.8     88.8     68.5\n",
            "8     96.6     96.4     53.4     72.4     50.1\n",
            "9     73.7     39.0     43.2     81.6     34.7\n"
          ]
        }
      ],
      "source": [
        "colnames = ['Score_1', 'Score_2', 'Score_3', 'Score_4', 'Score_5']\n",
        "\n",
        "df.columns = colnames\n",
        "print(df)"
      ]
    },
    {
      "cell_type": "markdown",
      "id": "8f8f2191",
      "metadata": {
        "id": "8f8f2191"
      },
      "source": [
        "### 9. Create a subset of this data frame that contains only the Score 1, 3, and 5 columns."
      ]
    },
    {
      "cell_type": "code",
      "execution_count": 12,
      "id": "77163f29",
      "metadata": {
        "id": "77163f29"
      },
      "outputs": [
        {
          "name": "stdout",
          "output_type": "stream",
          "text": [
            "   Score_1  Score_3  Score_5\n",
            "0     53.1     67.5     78.4\n",
            "1     61.3     30.8     87.6\n",
            "2     20.6     44.2     91.8\n",
            "3     57.4     96.1     69.5\n",
            "4     83.6     85.4     35.9\n",
            "5     49.0      0.1     89.1\n",
            "6     23.3     95.0     26.9\n",
            "7     27.6     53.8     68.5\n",
            "8     96.6     53.4     50.1\n",
            "9     73.7     43.2     34.7\n"
          ]
        }
      ],
      "source": [
        "df2 = df[['Score_1', 'Score_3', 'Score_5']]\n",
        "print(df2)"
      ]
    },
    {
      "cell_type": "markdown",
      "id": "a4846d55",
      "metadata": {
        "id": "a4846d55"
      },
      "source": [
        "### 10. From the original data frame, calculate the average Score_3 value."
      ]
    },
    {
      "cell_type": "code",
      "execution_count": 13,
      "id": "d2ecdb08",
      "metadata": {
        "id": "d2ecdb08"
      },
      "outputs": [
        {
          "name": "stdout",
          "output_type": "stream",
          "text": [
            "56.95000000000001\n"
          ]
        }
      ],
      "source": [
        "print(df['Score_3'].mean())"
      ]
    },
    {
      "cell_type": "markdown",
      "id": "5f702946",
      "metadata": {
        "id": "5f702946"
      },
      "source": [
        "### 11. Create a Pandas DataFrame from the dictionary of product orders below."
      ]
    },
    {
      "cell_type": "code",
      "execution_count": 14,
      "id": "04f78cf7",
      "metadata": {
        "id": "04f78cf7"
      },
      "outputs": [],
      "source": [
        "orders = {'Description': ['LUNCH BAG APPLE DESIGN',\n",
        "  'SET OF 60 VINTAGE LEAF CAKE CASES ',\n",
        "  'RIBBON REEL STRIPES DESIGN ',\n",
        "  'WORLD WAR 2 GLIDERS ASSTD DESIGNS',\n",
        "  'PLAYING CARDS JUBILEE UNION JACK',\n",
        "  'POPCORN HOLDER',\n",
        "  'BOX OF VINTAGE ALPHABET BLOCKS',\n",
        "  'PARTY BUNTING',\n",
        "  'JAZZ HEARTS ADDRESS BOOK',\n",
        "  'SET OF 4 SANTA PLACE SETTINGS'],\n",
        " 'Quantity': [1, 24, 1, 2880, 2, 7, 1, 4, 10, 48],\n",
        " 'UnitPrice': [1.65, 0.55, 1.65, 0.18, 1.25, 0.85, 11.95, 4.95, 0.19, 1.25],\n",
        " 'Revenue': [1.65, 13.2, 1.65, 518.4, 2.5, 5.95, 11.95, 19.8, 1.9, 60.0]}\n"
      ]
    },
    {
      "cell_type": "code",
      "execution_count": 15,
      "id": "0aaf1a27",
      "metadata": {
        "id": "0aaf1a27"
      },
      "outputs": [
        {
          "name": "stdout",
          "output_type": "stream",
          "text": [
            "                          Description  Quantity  UnitPrice  Revenue\n",
            "0              LUNCH BAG APPLE DESIGN         1       1.65     1.65\n",
            "1  SET OF 60 VINTAGE LEAF CAKE CASES         24       0.55    13.20\n",
            "2         RIBBON REEL STRIPES DESIGN          1       1.65     1.65\n",
            "3   WORLD WAR 2 GLIDERS ASSTD DESIGNS      2880       0.18   518.40\n",
            "4    PLAYING CARDS JUBILEE UNION JACK         2       1.25     2.50\n",
            "5                      POPCORN HOLDER         7       0.85     5.95\n",
            "6      BOX OF VINTAGE ALPHABET BLOCKS         1      11.95    11.95\n",
            "7                       PARTY BUNTING         4       4.95    19.80\n",
            "8            JAZZ HEARTS ADDRESS BOOK        10       0.19     1.90\n",
            "9       SET OF 4 SANTA PLACE SETTINGS        48       1.25    60.00\n"
          ]
        }
      ],
      "source": [
        "df_orders = pd.DataFrame(orders)\n",
        "print(df_orders)"
      ]
    },
    {
      "cell_type": "markdown",
      "id": "8e5a8e96",
      "metadata": {
        "id": "8e5a8e96"
      },
      "source": [
        "### 12. Calculate the total quantity ordered and revenue generated from these orders."
      ]
    },
    {
      "cell_type": "code",
      "execution_count": 16,
      "id": "876ca453",
      "metadata": {
        "id": "876ca453"
      },
      "outputs": [
        {
          "name": "stdout",
          "output_type": "stream",
          "text": [
            "2978\n",
            "637.0\n"
          ]
        }
      ],
      "source": [
        "print(df_orders['Quantity'].sum())\n",
        "print(df_orders['Revenue'].sum())"
      ]
    }
  ],
  "metadata": {
    "colab": {
      "provenance": []
    },
    "kernelspec": {
      "display_name": "Python 3.9.7 64-bit",
      "language": "python",
      "name": "python3"
    },
    "language_info": {
      "codemirror_mode": {
        "name": "ipython",
        "version": 3
      },
      "file_extension": ".py",
      "mimetype": "text/x-python",
      "name": "python",
      "nbconvert_exporter": "python",
      "pygments_lexer": "ipython3",
      "version": "3.9.7 (tags/v3.9.7:1016ef3, Aug 30 2021, 20:19:38) [MSC v.1929 64 bit (AMD64)]"
    },
    "vscode": {
      "interpreter": {
        "hash": "3e24519b0ba229a6f9a71f39c1cb5a8bdc9138e2d11e58c1de9e81a631b04fde"
      }
    }
  },
  "nbformat": 4,
  "nbformat_minor": 5
}
